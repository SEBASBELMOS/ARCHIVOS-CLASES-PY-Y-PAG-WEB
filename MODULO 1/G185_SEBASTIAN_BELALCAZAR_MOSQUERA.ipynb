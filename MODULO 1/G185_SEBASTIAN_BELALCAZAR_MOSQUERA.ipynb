{
  "nbformat": 4,
  "nbformat_minor": 0,
  "metadata": {
    "colab": {
      "name": "G185_SEBASTIAN BELALCAZAR MOSQUERA.ipynb",
      "provenance": [],
      "collapsed_sections": []
    },
    "kernelspec": {
      "name": "python3",
      "display_name": "Python 3"
    },
    "language_info": {
      "name": "python"
    }
  },
  "cells": [
    {
      "cell_type": "markdown",
      "metadata": {
        "id": "UGoWssqAQo5r"
      },
      "source": [
        "##***EJERCICIOS NUMPY*** \n",
        "**Sebastian Belalcazar Mosquera - Grupo 185**"
      ]
    },
    {
      "cell_type": "code",
      "metadata": {
        "id": "bMagA3XybOWb",
        "colab": {
          "base_uri": "https://localhost:8080/"
        },
        "outputId": "ba7410c6-250a-4e48-8560-725ea6097a04"
      },
      "source": [
        "#Que es una matriz: cuadricula de valores del mismo tipo y se encuentra indexada por una tupla de enteros positivos.\n",
        "import numpy as np\n",
        "\n",
        "matriz = np.array([[1, 2, 3, 4,], [5, 6, 7, 8]])\n",
        "\n",
        "print(matriz)"
      ],
      "execution_count": null,
      "outputs": [
        {
          "output_type": "stream",
          "name": "stdout",
          "text": [
            "[[1 2 3 4]\n",
            " [5 6 7 8]]\n"
          ]
        }
      ]
    },
    {
      "cell_type": "code",
      "metadata": {
        "colab": {
          "base_uri": "https://localhost:8080/"
        },
        "id": "i3LTpcX8bgsT",
        "outputId": "076681d6-c6d4-49c1-8518-5786f498b002"
      },
      "source": [
        "#Que es vector: una zona de almacenamiento que contiene una serie de elementos del mismo tipo, osea los elementos de la matriz.\n",
        "import numpy as np \n",
        "\n",
        "matriz = np.array([[1, 3 ],[2,5]])\n",
        "matrizinv = np.linalg.inv(matriz)\n",
        "\n",
        "print(matriz)\n",
        "print(matrizinv)"
      ],
      "execution_count": null,
      "outputs": [
        {
          "output_type": "stream",
          "name": "stdout",
          "text": [
            "[1, 2, 3, 4, 5]\n",
            "[1 2 3 4 5]\n"
          ]
        }
      ]
    },
    {
      "cell_type": "code",
      "metadata": {
        "colab": {
          "base_uri": "https://localhost:8080/"
        },
        "id": "f-jdkD9mxDDC",
        "outputId": "fcb8eed2-a9e0-4ece-af46-3763c11d2724"
      },
      "source": [
        "#Que es una matriz inversa: La matriz inversa de una matriz es igual a la matriz adjunta de su matriz traspuesta,dividida por su determinante, siempre que este no sea cero.\n",
        "import numpy as np\n",
        "\n",
        "matriz = np.array([[1, 3],[2,5]])\n",
        "matrizinv = np.linalg.inv(matriz)\n",
        "\n",
        "print(matriz)\n",
        "print(matrizinv)"
      ],
      "execution_count": 91,
      "outputs": [
        {
          "output_type": "stream",
          "name": "stdout",
          "text": [
            "[[1 3]\n",
            " [2 5]]\n",
            "[[-5.  3.]\n",
            " [ 2. -1.]]\n"
          ]
        }
      ]
    },
    {
      "cell_type": "code",
      "metadata": {
        "colab": {
          "base_uri": "https://localhost:8080/"
        },
        "id": "f7cJ_nDyy2vF",
        "outputId": "f94140d4-0ab2-4a25-a1fb-e7b1bfda99cb"
      },
      "source": [
        "#Se invirtio una matriz con el metodo linalg.inv. \n",
        "import numpy as np\n",
        "\n",
        "matriz = np.array([[2, 7, 1, 3],[5, 8, 1, 4],[3, 7, 5, 1], [4, 9, 2, 7]])\n",
        "metodlinalg = np.linalg.inv(matriz)\n",
        "\n",
        "print(matriz)\n",
        "print(metodlinalg)"
      ],
      "execution_count": null,
      "outputs": [
        {
          "output_type": "stream",
          "name": "stdout",
          "text": [
            "[[2 7 1 3]\n",
            " [5 8 1 4]\n",
            " [3 7 5 1]\n",
            " [4 9 2 7]]\n",
            "[[-0.3968254   0.38888889  0.02380952 -0.05555556]\n",
            " [ 0.36507937 -0.02777778 -0.01190476 -0.13888889]\n",
            " [-0.23809524 -0.16666667  0.21428571  0.16666667]\n",
            " [-0.17460317 -0.13888889 -0.05952381  0.30555556]]\n"
          ]
        }
      ]
    },
    {
      "cell_type": "code",
      "metadata": {
        "colab": {
          "base_uri": "https://localhost:8080/"
        },
        "id": "Rb9CIj7q8x61",
        "outputId": "5e4f9bde-c31b-4163-ec34-bb1c4b4877ef"
      },
      "source": [
        "#Que hace el metodo shape en Numpy: Practicamente nos permite saber cuantas columnas y cuantas filas tiene una matriz.\n",
        "import numpy as np\n",
        "\n",
        "matriz = np.array([[1, 2, 3, 4,], [5, 6, 7, 8]])\n",
        "metodshape = np.shape(matriz)\n",
        "\n",
        "print(matriz)\n",
        "print(metodshape)"
      ],
      "execution_count": 147,
      "outputs": [
        {
          "output_type": "stream",
          "name": "stdout",
          "text": [
            "[[1 2 3 4]\n",
            " [5 6 7 8]]\n",
            "(2, 4)\n"
          ]
        }
      ]
    },
    {
      "cell_type": "code",
      "metadata": {
        "colab": {
          "base_uri": "https://localhost:8080/"
        },
        "id": "VzXRq5jp9IG7",
        "outputId": "d5466b18-0448-4016-ef22-41c9d032eb77"
      },
      "source": [
        "#Crear un vector del rango 80 a 150\n",
        "import numpy as np\n",
        "\n",
        "vector = np.array(range(80,151))\n",
        "\n",
        "print(vector)"
      ],
      "execution_count": null,
      "outputs": [
        {
          "output_type": "stream",
          "name": "stdout",
          "text": [
            "[ 80  81  82  83  84  85  86  87  88  89  90  91  92  93  94  95  96  97\n",
            "  98  99 100 101 102 103 104 105 106 107 108 109 110 111 112 113 114 115\n",
            " 116 117 118 119 120 121 122 123 124 125 126 127 128 129 130 131 132 133\n",
            " 134 135 136 137 138 139 140 141 142 143 144 145 146 147 148 149 150]\n"
          ]
        }
      ]
    },
    {
      "cell_type": "code",
      "metadata": {
        "colab": {
          "base_uri": "https://localhost:8080/"
        },
        "id": "04qFwZe694uU",
        "outputId": "b8cffc34-6e8f-47c8-cb48-2e92b7d424f5"
      },
      "source": [
        "#Invertir el vector a con el metodo flip en Numpy\n",
        "import numpy as np\n",
        "\n",
        "a= np.array([12,45,67,89])\n",
        "ainv = np.flip(a)\n",
        "\n",
        "print(ainv)"
      ],
      "execution_count": null,
      "outputs": [
        {
          "output_type": "stream",
          "name": "stdout",
          "text": [
            "[89 67 45 12]\n"
          ]
        }
      ]
    },
    {
      "cell_type": "code",
      "metadata": {
        "colab": {
          "base_uri": "https://localhost:8080/"
        },
        "id": "snAXA9cl_xo6",
        "outputId": "d397798f-74d4-4f7d-89c5-3ddd0c34f187"
      },
      "source": [
        "#Crear una matriz 3x3 con valores de 0 a 8\n",
        "import numpy as np\n",
        "\n",
        "matriz = np.array([[0,1,2], [3,4,5], [6,7,8]])\n",
        "\n",
        "print(matriz)"
      ],
      "execution_count": null,
      "outputs": [
        {
          "output_type": "stream",
          "name": "stdout",
          "text": [
            "[[0 1 2]\n",
            " [3 4 5]\n",
            " [6 7 8]]\n"
          ]
        }
      ]
    },
    {
      "cell_type": "code",
      "metadata": {
        "colab": {
          "base_uri": "https://localhost:8080/"
        },
        "id": "3b8SRvdwArIQ",
        "outputId": "ae268fc6-e2f4-4101-c202-73e584ede8b6"
      },
      "source": [
        "#Crear una matriz 10x10 con solo unos, luego cambiar la ultima fila por 10 sus elementos\n",
        "import numpy as np\n",
        "\n",
        "matriz = np.zeros([10,10])\n",
        " \n",
        "for i in range(10):\n",
        "    for j in range(10):\n",
        "        matriz[i,j] = 1\n",
        "        if i == 9:\n",
        "          matriz[i,j] = j+1\n",
        "\n",
        "print(matriz)"
      ],
      "execution_count": 69,
      "outputs": [
        {
          "output_type": "stream",
          "name": "stdout",
          "text": [
            "[[ 1.  1.  1.  1.  1.  1.  1.  1.  1.  1.]\n",
            " [ 1.  1.  1.  1.  1.  1.  1.  1.  1.  1.]\n",
            " [ 1.  1.  1.  1.  1.  1.  1.  1.  1.  1.]\n",
            " [ 1.  1.  1.  1.  1.  1.  1.  1.  1.  1.]\n",
            " [ 1.  1.  1.  1.  1.  1.  1.  1.  1.  1.]\n",
            " [ 1.  1.  1.  1.  1.  1.  1.  1.  1.  1.]\n",
            " [ 1.  1.  1.  1.  1.  1.  1.  1.  1.  1.]\n",
            " [ 1.  1.  1.  1.  1.  1.  1.  1.  1.  1.]\n",
            " [ 1.  1.  1.  1.  1.  1.  1.  1.  1.  1.]\n",
            " [ 1.  2.  3.  4.  5.  6.  7.  8.  9. 10.]]\n"
          ]
        }
      ]
    },
    {
      "cell_type": "code",
      "metadata": {
        "id": "XBuPUorQHPh9",
        "colab": {
          "base_uri": "https://localhost:8080/"
        },
        "outputId": "66b49c7b-cfdd-4d6b-a3bd-5b4a1fbeb112"
      },
      "source": [
        "#cree una matriz 5x5 con valores aleatorios, buscar el método random de Numpy y utilizarlos, luego mostrar de la ultima fila solo las dos últimas columnas de estas.\n",
        "import numpy as np\n",
        "\n",
        "matriz = np.random.randint(100, size=(5, 5))\n",
        "\n",
        "print(matriz[4])\n",
        "print(matriz[4][3])\n",
        "print(matriz[4][4])"
      ],
      "execution_count": 68,
      "outputs": [
        {
          "output_type": "stream",
          "name": "stdout",
          "text": [
            "[59 83 57 61 71]\n",
            "61\n",
            "71\n"
          ]
        }
      ]
    },
    {
      "cell_type": "code",
      "metadata": {
        "colab": {
          "base_uri": "https://localhost:8080/"
        },
        "id": "qrSs92gEuipf",
        "outputId": "8dffbf19-5d4e-407b-98c0-f299998353cf"
      },
      "source": [
        "#Dada la siguiente matriz 𝑛𝑝.𝑎𝑟𝑎𝑛𝑔𝑒(1,101).𝑟𝑒𝑠ℎ𝑎𝑝𝑒(10,10) / 100 - Hallar la suma de todos sus elementos y el promedio.\n",
        "import numpy as np\n",
        "\n",
        "matriz = np.arange(1,101).reshape(10,10)/100\n",
        "\n",
        "elem = 0\n",
        "suma = 0\n",
        "\n",
        "for fila in matriz:\n",
        "    for elemento in fila:\n",
        "        suma += elemento\n",
        "        elem += 1\n",
        "\n",
        "promedio = suma / elem\n",
        "print(matriz)\n",
        "print(f\"La suma es {suma} y el promedio es {promedio},la matriz que tiene {elem} elementos\")"
      ],
      "execution_count": 148,
      "outputs": [
        {
          "output_type": "stream",
          "name": "stdout",
          "text": [
            "[[0.01 0.02 0.03 0.04 0.05 0.06 0.07 0.08 0.09 0.1 ]\n",
            " [0.11 0.12 0.13 0.14 0.15 0.16 0.17 0.18 0.19 0.2 ]\n",
            " [0.21 0.22 0.23 0.24 0.25 0.26 0.27 0.28 0.29 0.3 ]\n",
            " [0.31 0.32 0.33 0.34 0.35 0.36 0.37 0.38 0.39 0.4 ]\n",
            " [0.41 0.42 0.43 0.44 0.45 0.46 0.47 0.48 0.49 0.5 ]\n",
            " [0.51 0.52 0.53 0.54 0.55 0.56 0.57 0.58 0.59 0.6 ]\n",
            " [0.61 0.62 0.63 0.64 0.65 0.66 0.67 0.68 0.69 0.7 ]\n",
            " [0.71 0.72 0.73 0.74 0.75 0.76 0.77 0.78 0.79 0.8 ]\n",
            " [0.81 0.82 0.83 0.84 0.85 0.86 0.87 0.88 0.89 0.9 ]\n",
            " [0.91 0.92 0.93 0.94 0.95 0.96 0.97 0.98 0.99 1.  ]]\n",
            "La suma es 50.5 y el promedio es 0.505,la matriz que tiene 100 elementos\n"
          ]
        }
      ]
    },
    {
      "cell_type": "code",
      "metadata": {
        "colab": {
          "base_uri": "https://localhost:8080/"
        },
        "id": "YXJw0Ls24p9n",
        "outputId": "1c8b0d49-112e-4512-bae2-94a24b980eba"
      },
      "source": [
        "#Investigar el método linspace en Numpy: genera un array que tiene una similitud al rango que inicia en 0, finaliza en 1 y generara 20 valores que seran valores entre ese rango especificado\n",
        "#En pocas palabras recorre desde 0 a 1 generando 20 numeros que estan en ese rango\n",
        "import numpy as np\n",
        "\n",
        "matriz = np.linspace(0,1,20)\n",
        "\n",
        "print(matriz)"
      ],
      "execution_count": 95,
      "outputs": [
        {
          "output_type": "stream",
          "name": "stdout",
          "text": [
            "[0.         0.05263158 0.10526316 0.15789474 0.21052632 0.26315789\n",
            " 0.31578947 0.36842105 0.42105263 0.47368421 0.52631579 0.57894737\n",
            " 0.63157895 0.68421053 0.73684211 0.78947368 0.84210526 0.89473684\n",
            " 0.94736842 1.        ]\n"
          ]
        }
      ]
    },
    {
      "cell_type": "code",
      "metadata": {
        "colab": {
          "base_uri": "https://localhost:8080/"
        },
        "id": "Qhyslk4z6gFn",
        "outputId": "138495b1-0227-435b-a0f6-5cb23a23a664"
      },
      "source": [
        "#La siguiente instrucción me permite crear una matriz 5x5 utilizando un rango entre 1 y 26, sin incluir el 26\n",
        "import numpy as np\n",
        "\n",
        "mat = np.arange(1,26).reshape(5,5)\n",
        "salida = np.sum(mat, axis=-1)\n",
        "\n",
        "print(\"Matriz\")\n",
        "print(mat)\n",
        "print(f\"Primera Fila = {mat[0]}\")\n",
        "print(f\"Penultimo dato de la primera fila = {mat[0][3]}\")\n",
        "print(f\"Ultimo dato de la primera fila = {mat[0][4]}\")\n",
        "print(f\"La segunda columna = {mat[:, 1]}\")\n",
        "print(f\"La primera columna = {mat[:, 0]}\")\n",
        "print(f\"La ultima columna = {mat[:, 4]}\")\n",
        "print(f\"La primera fila = {mat[0]}\")\n",
        "print(\"El promedio es: \", int(np.mean(mat)))\n",
        "print(f\"la suma de la ultima columna es: {salida}\")\n",
        "print(f\"El elemento en la posicion (5,2): {mat[4][1]}\")"
      ],
      "execution_count": 146,
      "outputs": [
        {
          "output_type": "stream",
          "name": "stdout",
          "text": [
            "Matriz\n",
            "[[ 1  2  3  4  5]\n",
            " [ 6  7  8  9 10]\n",
            " [11 12 13 14 15]\n",
            " [16 17 18 19 20]\n",
            " [21 22 23 24 25]]\n",
            "Primera Fila = [1 2 3 4 5]\n",
            "Penultimo dato de la primera fila = 4\n",
            "Ultimo dato de la primera fila = 5\n",
            "La segunda columna = [ 2  7 12 17 22]\n",
            "La primera columna = [ 1  6 11 16 21]\n",
            "La ultima columna = [ 5 10 15 20 25]\n",
            "La primera fila = [1 2 3 4 5]\n",
            "El promedio es:  13\n",
            "la suma de la ultima columna es: [ 15  40  65  90 115]\n",
            "El elemento en la posicion (5,2): 22\n"
          ]
        }
      ]
    }
  ]
}